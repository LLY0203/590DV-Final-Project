{
 "cells": [
  {
   "cell_type": "code",
   "execution_count": 1,
   "metadata": {},
   "outputs": [],
   "source": [
    "import pandas as pd\n",
    "import matplotlib.pyplot as plt"
   ]
  },
  {
   "cell_type": "code",
   "execution_count": 2,
   "metadata": {},
   "outputs": [],
   "source": [
    "# df0 = pd.read_csv('COVID19.csv')\n",
    "# df0"
   ]
  },
  {
   "cell_type": "code",
   "execution_count": 3,
   "metadata": {},
   "outputs": [],
   "source": [
    "# df0.groupby('location')['total_cases'].sum()\n",
    "# df0['location'].unique()"
   ]
  },
  {
   "cell_type": "code",
   "execution_count": 4,
   "metadata": {},
   "outputs": [],
   "source": [
    "df1 = pd.read_csv('COVID-19 Cases.csv')"
   ]
  },
  {
   "cell_type": "code",
   "execution_count": 5,
   "metadata": {},
   "outputs": [
    {
     "data": {
      "text/html": [
       "<div>\n",
       "<style scoped>\n",
       "    .dataframe tbody tr th:only-of-type {\n",
       "        vertical-align: middle;\n",
       "    }\n",
       "\n",
       "    .dataframe tbody tr th {\n",
       "        vertical-align: top;\n",
       "    }\n",
       "\n",
       "    .dataframe thead th {\n",
       "        text-align: right;\n",
       "    }\n",
       "</style>\n",
       "<table border=\"1\" class=\"dataframe\">\n",
       "  <thead>\n",
       "    <tr style=\"text-align: right;\">\n",
       "      <th></th>\n",
       "      <th>Case_Type</th>\n",
       "      <th>Cases</th>\n",
       "      <th>Difference</th>\n",
       "      <th>Date</th>\n",
       "      <th>Country_Region</th>\n",
       "      <th>Province_State</th>\n",
       "      <th>Admin2</th>\n",
       "      <th>Combined_Key</th>\n",
       "      <th>FIPS</th>\n",
       "      <th>Lat</th>\n",
       "      <th>Long</th>\n",
       "      <th>Table_Names</th>\n",
       "      <th>Prep_Flow_Runtime</th>\n",
       "    </tr>\n",
       "  </thead>\n",
       "  <tbody>\n",
       "    <tr>\n",
       "      <td>0</td>\n",
       "      <td>Confirmed</td>\n",
       "      <td>319</td>\n",
       "      <td>1</td>\n",
       "      <td>4/11/2020</td>\n",
       "      <td>Mauritius</td>\n",
       "      <td>NaN</td>\n",
       "      <td>NaN</td>\n",
       "      <td>NaN</td>\n",
       "      <td>NaN</td>\n",
       "      <td>-20.200000</td>\n",
       "      <td>57.500000</td>\n",
       "      <td>Time Series</td>\n",
       "      <td>4/12/2020 8:14:42 PM</td>\n",
       "    </tr>\n",
       "    <tr>\n",
       "      <td>1</td>\n",
       "      <td>Deaths</td>\n",
       "      <td>0</td>\n",
       "      <td>0</td>\n",
       "      <td>2/27/2020</td>\n",
       "      <td>Bahamas</td>\n",
       "      <td>NaN</td>\n",
       "      <td>NaN</td>\n",
       "      <td>NaN</td>\n",
       "      <td>NaN</td>\n",
       "      <td>25.034300</td>\n",
       "      <td>-77.396300</td>\n",
       "      <td>Time Series</td>\n",
       "      <td>4/12/2020 8:14:42 PM</td>\n",
       "    </tr>\n",
       "    <tr>\n",
       "      <td>2</td>\n",
       "      <td>Confirmed</td>\n",
       "      <td>16</td>\n",
       "      <td>0</td>\n",
       "      <td>2/16/2020</td>\n",
       "      <td>Germany</td>\n",
       "      <td>NaN</td>\n",
       "      <td>NaN</td>\n",
       "      <td>NaN</td>\n",
       "      <td>NaN</td>\n",
       "      <td>51.000000</td>\n",
       "      <td>9.000000</td>\n",
       "      <td>Time Series</td>\n",
       "      <td>4/12/2020 8:14:42 PM</td>\n",
       "    </tr>\n",
       "    <tr>\n",
       "      <td>3</td>\n",
       "      <td>Deaths</td>\n",
       "      <td>0</td>\n",
       "      <td>0</td>\n",
       "      <td>1/31/2020</td>\n",
       "      <td>Canada</td>\n",
       "      <td>Alberta</td>\n",
       "      <td>NaN</td>\n",
       "      <td>NaN</td>\n",
       "      <td>NaN</td>\n",
       "      <td>53.933300</td>\n",
       "      <td>-116.576500</td>\n",
       "      <td>Time Series</td>\n",
       "      <td>4/12/2020 8:14:42 PM</td>\n",
       "    </tr>\n",
       "    <tr>\n",
       "      <td>4</td>\n",
       "      <td>Deaths</td>\n",
       "      <td>0</td>\n",
       "      <td>0</td>\n",
       "      <td>3/4/2020</td>\n",
       "      <td>Australia</td>\n",
       "      <td>Queensland</td>\n",
       "      <td>NaN</td>\n",
       "      <td>NaN</td>\n",
       "      <td>NaN</td>\n",
       "      <td>-28.016700</td>\n",
       "      <td>153.400000</td>\n",
       "      <td>Time Series</td>\n",
       "      <td>4/12/2020 8:14:42 PM</td>\n",
       "    </tr>\n",
       "    <tr>\n",
       "      <td>...</td>\n",
       "      <td>...</td>\n",
       "      <td>...</td>\n",
       "      <td>...</td>\n",
       "      <td>...</td>\n",
       "      <td>...</td>\n",
       "      <td>...</td>\n",
       "      <td>...</td>\n",
       "      <td>...</td>\n",
       "      <td>...</td>\n",
       "      <td>...</td>\n",
       "      <td>...</td>\n",
       "      <td>...</td>\n",
       "      <td>...</td>\n",
       "    </tr>\n",
       "    <tr>\n",
       "      <td>575635</td>\n",
       "      <td>Confirmed</td>\n",
       "      <td>0</td>\n",
       "      <td>0</td>\n",
       "      <td>1/22/2020</td>\n",
       "      <td>US</td>\n",
       "      <td>New Mexico</td>\n",
       "      <td>Sierra</td>\n",
       "      <td>Sierra, New Mexico, US</td>\n",
       "      <td>35051.0</td>\n",
       "      <td>33.130282</td>\n",
       "      <td>-107.192589</td>\n",
       "      <td>Time Series</td>\n",
       "      <td>4/12/2020 8:14:42 PM</td>\n",
       "    </tr>\n",
       "    <tr>\n",
       "      <td>575636</td>\n",
       "      <td>Deaths</td>\n",
       "      <td>0</td>\n",
       "      <td>0</td>\n",
       "      <td>1/22/2020</td>\n",
       "      <td>US</td>\n",
       "      <td>Louisiana</td>\n",
       "      <td>Lafayette</td>\n",
       "      <td>Lafayette, Louisiana, US</td>\n",
       "      <td>22055.0</td>\n",
       "      <td>30.204905</td>\n",
       "      <td>-92.069599</td>\n",
       "      <td>Time Series</td>\n",
       "      <td>4/12/2020 8:14:42 PM</td>\n",
       "    </tr>\n",
       "    <tr>\n",
       "      <td>575637</td>\n",
       "      <td>Deaths</td>\n",
       "      <td>0</td>\n",
       "      <td>0</td>\n",
       "      <td>1/22/2020</td>\n",
       "      <td>Uzbekistan</td>\n",
       "      <td>NaN</td>\n",
       "      <td>NaN</td>\n",
       "      <td>NaN</td>\n",
       "      <td>NaN</td>\n",
       "      <td>41.377500</td>\n",
       "      <td>64.585300</td>\n",
       "      <td>Time Series</td>\n",
       "      <td>4/12/2020 8:14:42 PM</td>\n",
       "    </tr>\n",
       "    <tr>\n",
       "      <td>575638</td>\n",
       "      <td>Deaths</td>\n",
       "      <td>0</td>\n",
       "      <td>0</td>\n",
       "      <td>1/22/2020</td>\n",
       "      <td>US</td>\n",
       "      <td>Virginia</td>\n",
       "      <td>Bristol</td>\n",
       "      <td>Bristol, Virginia, US</td>\n",
       "      <td>51520.0</td>\n",
       "      <td>36.616302</td>\n",
       "      <td>-82.163591</td>\n",
       "      <td>Time Series</td>\n",
       "      <td>4/12/2020 8:14:42 PM</td>\n",
       "    </tr>\n",
       "    <tr>\n",
       "      <td>575639</td>\n",
       "      <td>Confirmed</td>\n",
       "      <td>0</td>\n",
       "      <td>0</td>\n",
       "      <td>1/22/2020</td>\n",
       "      <td>US</td>\n",
       "      <td>Alabama</td>\n",
       "      <td>Lee</td>\n",
       "      <td>Lee, Alabama, US</td>\n",
       "      <td>1081.0</td>\n",
       "      <td>32.601549</td>\n",
       "      <td>-85.351322</td>\n",
       "      <td>Time Series</td>\n",
       "      <td>4/12/2020 8:14:42 PM</td>\n",
       "    </tr>\n",
       "  </tbody>\n",
       "</table>\n",
       "<p>575640 rows × 13 columns</p>\n",
       "</div>"
      ],
      "text/plain": [
       "        Case_Type  Cases  Difference       Date Country_Region Province_State  \\\n",
       "0       Confirmed    319           1  4/11/2020      Mauritius            NaN   \n",
       "1          Deaths      0           0  2/27/2020        Bahamas            NaN   \n",
       "2       Confirmed     16           0  2/16/2020        Germany            NaN   \n",
       "3          Deaths      0           0  1/31/2020         Canada        Alberta   \n",
       "4          Deaths      0           0   3/4/2020      Australia     Queensland   \n",
       "...           ...    ...         ...        ...            ...            ...   \n",
       "575635  Confirmed      0           0  1/22/2020             US     New Mexico   \n",
       "575636     Deaths      0           0  1/22/2020             US      Louisiana   \n",
       "575637     Deaths      0           0  1/22/2020     Uzbekistan            NaN   \n",
       "575638     Deaths      0           0  1/22/2020             US       Virginia   \n",
       "575639  Confirmed      0           0  1/22/2020             US        Alabama   \n",
       "\n",
       "           Admin2              Combined_Key     FIPS        Lat        Long  \\\n",
       "0             NaN                       NaN      NaN -20.200000   57.500000   \n",
       "1             NaN                       NaN      NaN  25.034300  -77.396300   \n",
       "2             NaN                       NaN      NaN  51.000000    9.000000   \n",
       "3             NaN                       NaN      NaN  53.933300 -116.576500   \n",
       "4             NaN                       NaN      NaN -28.016700  153.400000   \n",
       "...           ...                       ...      ...        ...         ...   \n",
       "575635     Sierra    Sierra, New Mexico, US  35051.0  33.130282 -107.192589   \n",
       "575636  Lafayette  Lafayette, Louisiana, US  22055.0  30.204905  -92.069599   \n",
       "575637        NaN                       NaN      NaN  41.377500   64.585300   \n",
       "575638    Bristol     Bristol, Virginia, US  51520.0  36.616302  -82.163591   \n",
       "575639        Lee          Lee, Alabama, US   1081.0  32.601549  -85.351322   \n",
       "\n",
       "        Table_Names     Prep_Flow_Runtime  \n",
       "0       Time Series  4/12/2020 8:14:42 PM  \n",
       "1       Time Series  4/12/2020 8:14:42 PM  \n",
       "2       Time Series  4/12/2020 8:14:42 PM  \n",
       "3       Time Series  4/12/2020 8:14:42 PM  \n",
       "4       Time Series  4/12/2020 8:14:42 PM  \n",
       "...             ...                   ...  \n",
       "575635  Time Series  4/12/2020 8:14:42 PM  \n",
       "575636  Time Series  4/12/2020 8:14:42 PM  \n",
       "575637  Time Series  4/12/2020 8:14:42 PM  \n",
       "575638  Time Series  4/12/2020 8:14:42 PM  \n",
       "575639  Time Series  4/12/2020 8:14:42 PM  \n",
       "\n",
       "[575640 rows x 13 columns]"
      ]
     },
     "execution_count": 5,
     "metadata": {},
     "output_type": "execute_result"
    }
   ],
   "source": [
    "df1"
   ]
  },
  {
   "cell_type": "markdown",
   "metadata": {},
   "source": [
    "This dataset represents the total of confirmed cases and deaths of COVID-19. The columns include the case type (string), the number of cases (int), date (datetime), country region (string), longitude and latitude (float), etc. It also provides more information about US cases by adding the columns \"Province State\", \"Admin2\", \"Combined Key\"(string) and \"FIPS\"(float).\n",
    "\n",
    "Reference：https://www.tableau.com/about/blog/2020/3/coronavirus-data-hub-faq"
   ]
  },
  {
   "cell_type": "markdown",
   "metadata": {},
   "source": [
    " • The name of this dataset is \"COVID-19 Cases\".\n",
    " \n",
    " • I got this dataset from the website \"data.world\". The orginal source is Johns Hopkins University Center for Systems Science and Engineering.\n",
    "\n",
    " •  The link is\n",
    " https://data.world/covid-19-data-resource-hub/covid-19-case-counts/workspace/file?filename=COVID-19+Cases.csv\n",
    " \n",
    " • I cannot find the license information about this dataset, but it is known that the dataset is open to public.\n",
    " \n",
    " • We are allowed to add new data source, join the tables, etc. We are also allowed to use it for analysis.\n",
    " \n",
    " • The size of this file is 84.1MB, and there are 575640 rows and 13 columns in this dataset.\n",
    " \n",
    " • The simple plot is as follow.\n",
    " "
   ]
  },
  {
   "cell_type": "markdown",
   "metadata": {},
   "source": [
    "Getting familiar with the country and region information.."
   ]
  },
  {
   "cell_type": "code",
   "execution_count": 6,
   "metadata": {},
   "outputs": [
    {
     "data": {
      "text/plain": [
       "array(['Mauritius', 'Bahamas', 'Germany', 'Canada', 'Australia',\n",
       "       'Suriname', 'Estonia', 'Slovakia', 'Croatia', 'Timor-Leste',\n",
       "       'Brazil', 'China', 'North Macedonia', 'Israel', 'Netherlands',\n",
       "       'Namibia', 'Yemen', 'France', 'Mozambique', 'Argentina',\n",
       "       'United Arab Emirates', 'Honduras', 'Malta', 'Gabon', 'Bulgaria',\n",
       "       'United Kingdom', 'Singapore', 'New Zealand', 'Mexico', 'Panama',\n",
       "       'Fiji', 'Kuwait', 'Ghana', 'Thailand', 'Costa Rica',\n",
       "       'Bosnia and Herzegovina', 'Korea, South', 'South Sudan', 'Gambia',\n",
       "       'Mali', 'Iran', 'Saint Vincent and the Grenadines', 'Tunisia',\n",
       "       'Algeria', 'Sao Tome and Principe', 'Iraq', 'Albania', 'Nigeria',\n",
       "       'Sierra Leone', 'Liberia', 'Lebanon', 'Laos', 'Liechtenstein',\n",
       "       'Nicaragua', \"Cote d'Ivoire\", 'Holy See', 'Armenia', 'Georgia',\n",
       "       'Luxembourg', 'Haiti', 'Grenada', 'Czechia', 'Cuba', 'Morocco',\n",
       "       'Guyana', 'Taiwan*', 'Chad', 'Andorra', 'Afghanistan',\n",
       "       'Saint Kitts and Nevis', 'Uganda', 'Chile', 'Slovenia', 'Brunei',\n",
       "       'Oman', 'Paraguay', 'Romania', 'Belarus', 'Congo (Brazzaville)',\n",
       "       'Madagascar', 'Eritrea', 'Rwanda', 'Philippines', 'Bahrain',\n",
       "       'Sweden', 'Senegal', 'Eswatini', 'Bolivia', 'Ireland',\n",
       "       'Saint Lucia', 'Mauritania', 'Togo', 'Bhutan', 'Finland',\n",
       "       'Belgium', 'Kosovo', 'Poland', 'Guinea-Bissau', 'Jordan',\n",
       "       'Malaysia', 'Denmark', 'Burkina Faso', 'Greece', 'Colombia',\n",
       "       'Austria', 'Kazakhstan', 'Cyprus', 'Zambia', 'Nepal',\n",
       "       'El Salvador', 'Papua New Guinea', 'Ecuador', 'Egypt', 'Burma',\n",
       "       'Azerbaijan', 'Monaco', 'Ukraine', 'Qatar', 'Peru', 'Guinea',\n",
       "       'Moldova', 'Antigua and Barbuda', 'Kyrgyzstan', 'Djibouti',\n",
       "       'Benin', 'Cambodia', 'Latvia', 'India', 'Syria', 'Russia',\n",
       "       'Cruise Ship', 'Saudi Arabia', 'Botswana', 'Portugal', 'Pakistan',\n",
       "       'Indonesia', 'Dominica', 'Kenya', 'San Marino', 'Lithuania',\n",
       "       'Uzbekistan', 'Tanzania', 'Japan', 'Switzerland', 'Montenegro',\n",
       "       'Niger', 'Guatemala', 'Hungary', 'Zimbabwe', 'Mongolia', 'Iceland',\n",
       "       'Barbados', 'Italy', 'Serbia', 'Angola', 'Western Sahara',\n",
       "       'Equatorial Guinea', 'Uruguay', 'Cameroon', 'Congo (Kinshasa)',\n",
       "       'Maldives', 'Vietnam', 'Bangladesh', 'Libya', 'Seychelles',\n",
       "       'Trinidad and Tobago', 'Sri Lanka', 'Jamaica',\n",
       "       'Central African Republic', 'West Bank and Gaza', 'Burundi',\n",
       "       'Belize', 'Venezuela', 'Sudan', 'Turkey', 'Norway', 'Somalia',\n",
       "       'Cabo Verde', 'Dominican Republic', 'Spain', 'South Africa',\n",
       "       'Malawi', 'Ethiopia', 'US'], dtype=object)"
      ]
     },
     "execution_count": 6,
     "metadata": {},
     "output_type": "execute_result"
    }
   ],
   "source": [
    "df1['Country_Region'].unique()"
   ]
  },
  {
   "cell_type": "code",
   "execution_count": 7,
   "metadata": {},
   "outputs": [
    {
     "data": {
      "text/plain": [
       "Country_Region\n",
       "Afghanistan            6065\n",
       "Albania                6630\n",
       "Algeria               22032\n",
       "Andorra                9068\n",
       "Angola                  224\n",
       "                      ...  \n",
       "West Bank and Gaza     4164\n",
       "Western Sahara           34\n",
       "Yemen                     3\n",
       "Zambia                  665\n",
       "Zimbabwe                181\n",
       "Name: Cases, Length: 184, dtype: int64"
      ]
     },
     "execution_count": 7,
     "metadata": {},
     "output_type": "execute_result"
    }
   ],
   "source": [
    "df1[df1['Case_Type']=='Confirmed'].groupby('Country_Region')['Cases'].sum()"
   ]
  },
  {
   "cell_type": "code",
   "execution_count": 8,
   "metadata": {},
   "outputs": [
    {
     "data": {
      "text/plain": [
       "Country_Region\n",
       "Afghanistan            164\n",
       "Albania                336\n",
       "Algeria               2485\n",
       "Andorra                291\n",
       "Angola                  30\n",
       "                      ... \n",
       "West Bank and Gaza      21\n",
       "Western Sahara           0\n",
       "Yemen                    0\n",
       "Zambia                  14\n",
       "Zimbabwe                32\n",
       "Name: Cases, Length: 184, dtype: int64"
      ]
     },
     "execution_count": 8,
     "metadata": {},
     "output_type": "execute_result"
    }
   ],
   "source": [
    "df1[df1['Case_Type']=='Deaths'].groupby('Country_Region')['Cases'].sum()"
   ]
  },
  {
   "cell_type": "code",
   "execution_count": 9,
   "metadata": {},
   "outputs": [
    {
     "data": {
      "text/plain": [
       "Country_Region\n",
       "Afghanistan            6229\n",
       "Albania                6966\n",
       "Algeria               24517\n",
       "Andorra                9359\n",
       "Angola                  254\n",
       "                      ...  \n",
       "West Bank and Gaza     4185\n",
       "Western Sahara           34\n",
       "Yemen                     3\n",
       "Zambia                  679\n",
       "Zimbabwe                213\n",
       "Name: Cases, Length: 184, dtype: int64"
      ]
     },
     "execution_count": 9,
     "metadata": {},
     "output_type": "execute_result"
    }
   ],
   "source": [
    "df1.groupby('Country_Region')['Cases'].sum()"
   ]
  },
  {
   "cell_type": "markdown",
   "metadata": {},
   "source": [
    "Getting familiar with the date information.."
   ]
  },
  {
   "cell_type": "code",
   "execution_count": 10,
   "metadata": {},
   "outputs": [
    {
     "data": {
      "image/png": "[encoded data removed]",
      "text/plain": [
       "<Figure size 432x288 with 1 Axes>"
      ]
     },
     "metadata": {
      "needs_background": "light"
     },
     "output_type": "display_data"
    }
   ],
   "source": [
    "df1[df1['Case_Type']=='Confirmed'].groupby('Date')['Cases'].sum().plot()\n",
    "plt.title('Curve of number of confirmed cases of COVID-19')\n",
    "plt.ylabel('The number of confirmed cases')\n",
    "plt.xlabel('Date')\n",
    "plt.show()"
   ]
  },
  {
   "cell_type": "markdown",
   "metadata": {},
   "source": [
    "The curve shows an upward trend, which is consistent with our expectations, but it is weird that there is a sharp drop in the plot. I will try to explore the reason of it in the following parts."
   ]
  },
  {
   "cell_type": "code",
   "execution_count": null,
   "metadata": {},
   "outputs": [],
   "source": []
  }
 ],
 "metadata": {
  "kernelspec": {
   "display_name": "Python 3",
   "language": "python",
   "name": "python3"
  },
  "language_info": {
   "codemirror_mode": {
    "name": "ipython",
    "version": 3
   },
   "file_extension": ".py",
   "mimetype": "text/x-python",
   "name": "python",
   "nbconvert_exporter": "python",
   "pygments_lexer": "ipython3",
   "version": "3.7.4"
  }
 },
 "nbformat": 4,
 "nbformat_minor": 2
}
